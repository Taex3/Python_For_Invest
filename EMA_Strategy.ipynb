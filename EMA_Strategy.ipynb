{
  "nbformat": 4,
  "nbformat_minor": 0,
  "metadata": {
    "colab": {
      "provenance": []
    },
    "kernelspec": {
      "name": "python3",
      "display_name": "Python 3"
    },
    "language_info": {
      "name": "python"
    }
  },
  "cells": [
    {
      "cell_type": "code",
      "source": [
        "!pip install pandas_ta"
      ],
      "metadata": {
        "id": "Qn4SjMM4SDNY",
        "outputId": "4598effb-8dc3-40eb-cdc3-2ddf7f9bf07e",
        "colab": {
          "base_uri": "https://localhost:8080/"
        }
      },
      "execution_count": 2,
      "outputs": [
        {
          "output_type": "stream",
          "name": "stdout",
          "text": [
            "Looking in indexes: https://pypi.org/simple, https://us-python.pkg.dev/colab-wheels/public/simple/\n",
            "Collecting pandas_ta\n",
            "  Downloading pandas_ta-0.3.14b.tar.gz (115 kB)\n",
            "\u001b[2K     \u001b[90m━━━━━━━━━━━━━━━━━━━━━━━━━━━━━━━━━━━━━━━\u001b[0m \u001b[32m115.1/115.1 KB\u001b[0m \u001b[31m6.0 MB/s\u001b[0m eta \u001b[36m0:00:00\u001b[0m\n",
            "\u001b[?25h  Preparing metadata (setup.py) ... \u001b[?25l\u001b[?25hdone\n",
            "Requirement already satisfied: pandas in /usr/local/lib/python3.8/dist-packages (from pandas_ta) (1.3.5)\n",
            "Requirement already satisfied: pytz>=2017.3 in /usr/local/lib/python3.8/dist-packages (from pandas->pandas_ta) (2022.7.1)\n",
            "Requirement already satisfied: numpy>=1.17.3 in /usr/local/lib/python3.8/dist-packages (from pandas->pandas_ta) (1.21.6)\n",
            "Requirement already satisfied: python-dateutil>=2.7.3 in /usr/local/lib/python3.8/dist-packages (from pandas->pandas_ta) (2.8.2)\n",
            "Requirement already satisfied: six>=1.5 in /usr/local/lib/python3.8/dist-packages (from python-dateutil>=2.7.3->pandas->pandas_ta) (1.15.0)\n",
            "Building wheels for collected packages: pandas_ta\n",
            "  Building wheel for pandas_ta (setup.py) ... \u001b[?25l\u001b[?25hdone\n",
            "  Created wheel for pandas_ta: filename=pandas_ta-0.3.14b0-py3-none-any.whl size=218923 sha256=bc69e9efc0ebe2d355265b36ecf7d51340a7dcd26a3a26646490748a3b88c34a\n",
            "  Stored in directory: /root/.cache/pip/wheels/54/4a/75/06b8e63fce6f6d2c1baae5c208edb18eca128407b0c96e1153\n",
            "Successfully built pandas_ta\n",
            "Installing collected packages: pandas_ta\n",
            "Successfully installed pandas_ta-0.3.14b0\n"
          ]
        }
      ]
    },
    {
      "cell_type": "code",
      "source": [],
      "metadata": {
        "id": "IaCZBZd1WDrR"
      },
      "execution_count": 2,
      "outputs": []
    },
    {
      "cell_type": "code",
      "metadata": {
        "colab": {
          "base_uri": "https://localhost:8080/"
        },
        "id": "C2SECXz_3YCQ",
        "outputId": "e0fe8f3e-0ed8-4c91-82dd-87f5ecd49975"
      },
      "source": [
        "  !pip install yfinance"
      ],
      "execution_count": 1,
      "outputs": [
        {
          "output_type": "stream",
          "name": "stdout",
          "text": [
            "Looking in indexes: https://pypi.org/simple, https://us-python.pkg.dev/colab-wheels/public/simple/\n",
            "Collecting yfinance\n",
            "  Downloading yfinance-0.2.10-py2.py3-none-any.whl (59 kB)\n",
            "\u001b[2K     \u001b[90m━━━━━━━━━━━━━━━━━━━━━━━━━━━━━━━━━━━━━━━━\u001b[0m \u001b[32m59.1/59.1 KB\u001b[0m \u001b[31m1.6 MB/s\u001b[0m eta \u001b[36m0:00:00\u001b[0m\n",
            "\u001b[?25hRequirement already satisfied: appdirs>=1.4.4 in /usr/local/lib/python3.8/dist-packages (from yfinance) (1.4.4)\n",
            "Requirement already satisfied: multitasking>=0.0.7 in /usr/local/lib/python3.8/dist-packages (from yfinance) (0.0.11)\n",
            "Collecting frozendict>=2.3.4\n",
            "  Downloading frozendict-2.3.4-cp38-cp38-manylinux_2_17_x86_64.manylinux2014_x86_64.whl (110 kB)\n",
            "\u001b[2K     \u001b[90m━━━━━━━━━━━━━━━━━━━━━━━━━━━━━━━━━━━━━━━\u001b[0m \u001b[32m111.0/111.0 KB\u001b[0m \u001b[31m4.4 MB/s\u001b[0m eta \u001b[36m0:00:00\u001b[0m\n",
            "\u001b[?25hRequirement already satisfied: numpy>=1.16.5 in /usr/local/lib/python3.8/dist-packages (from yfinance) (1.21.6)\n",
            "Requirement already satisfied: pytz>=2022.5 in /usr/local/lib/python3.8/dist-packages (from yfinance) (2022.7.1)\n",
            "Collecting cryptography>=3.3.2\n",
            "  Downloading cryptography-39.0.1-cp36-abi3-manylinux_2_28_x86_64.whl (4.2 MB)\n",
            "\u001b[2K     \u001b[90m━━━━━━━━━━━━━━━━━━━━━━━━━━━━━━━━━━━━━━━━\u001b[0m \u001b[32m4.2/4.2 MB\u001b[0m \u001b[31m24.0 MB/s\u001b[0m eta \u001b[36m0:00:00\u001b[0m\n",
            "\u001b[?25hCollecting beautifulsoup4>=4.11.1\n",
            "  Downloading beautifulsoup4-4.11.2-py3-none-any.whl (129 kB)\n",
            "\u001b[2K     \u001b[90m━━━━━━━━━━━━━━━━━━━━━━━━━━━━━━━━━━━━━━\u001b[0m \u001b[32m129.4/129.4 KB\u001b[0m \u001b[31m10.6 MB/s\u001b[0m eta \u001b[36m0:00:00\u001b[0m\n",
            "\u001b[?25hRequirement already satisfied: lxml>=4.9.1 in /usr/local/lib/python3.8/dist-packages (from yfinance) (4.9.2)\n",
            "Collecting requests>=2.26\n",
            "  Downloading requests-2.28.2-py3-none-any.whl (62 kB)\n",
            "\u001b[2K     \u001b[90m━━━━━━━━━━━━━━━━━━━━━━━━━━━━━━━━━━━━━━━━\u001b[0m \u001b[32m62.8/62.8 KB\u001b[0m \u001b[31m2.9 MB/s\u001b[0m eta \u001b[36m0:00:00\u001b[0m\n",
            "\u001b[?25hRequirement already satisfied: pandas>=1.3.0 in /usr/local/lib/python3.8/dist-packages (from yfinance) (1.3.5)\n",
            "Collecting html5lib>=1.1\n",
            "  Downloading html5lib-1.1-py2.py3-none-any.whl (112 kB)\n",
            "\u001b[2K     \u001b[90m━━━━━━━━━━━━━━━━━━━━━━━━━━━━━━━━━━━━━━━\u001b[0m \u001b[32m112.2/112.2 KB\u001b[0m \u001b[31m7.6 MB/s\u001b[0m eta \u001b[36m0:00:00\u001b[0m\n",
            "\u001b[?25hCollecting soupsieve>1.2\n",
            "  Downloading soupsieve-2.3.2.post1-py3-none-any.whl (37 kB)\n",
            "Requirement already satisfied: cffi>=1.12 in /usr/local/lib/python3.8/dist-packages (from cryptography>=3.3.2->yfinance) (1.15.1)\n",
            "Requirement already satisfied: six>=1.9 in /usr/local/lib/python3.8/dist-packages (from html5lib>=1.1->yfinance) (1.15.0)\n",
            "Requirement already satisfied: webencodings in /usr/local/lib/python3.8/dist-packages (from html5lib>=1.1->yfinance) (0.5.1)\n",
            "Requirement already satisfied: python-dateutil>=2.7.3 in /usr/local/lib/python3.8/dist-packages (from pandas>=1.3.0->yfinance) (2.8.2)\n",
            "Requirement already satisfied: certifi>=2017.4.17 in /usr/local/lib/python3.8/dist-packages (from requests>=2.26->yfinance) (2022.12.7)\n",
            "Requirement already satisfied: idna<4,>=2.5 in /usr/local/lib/python3.8/dist-packages (from requests>=2.26->yfinance) (2.10)\n",
            "Requirement already satisfied: urllib3<1.27,>=1.21.1 in /usr/local/lib/python3.8/dist-packages (from requests>=2.26->yfinance) (1.24.3)\n",
            "Requirement already satisfied: charset-normalizer<4,>=2 in /usr/local/lib/python3.8/dist-packages (from requests>=2.26->yfinance) (2.1.1)\n",
            "Requirement already satisfied: pycparser in /usr/local/lib/python3.8/dist-packages (from cffi>=1.12->cryptography>=3.3.2->yfinance) (2.21)\n",
            "Installing collected packages: soupsieve, requests, html5lib, frozendict, cryptography, beautifulsoup4, yfinance\n",
            "  Attempting uninstall: requests\n",
            "    Found existing installation: requests 2.25.1\n",
            "    Uninstalling requests-2.25.1:\n",
            "      Successfully uninstalled requests-2.25.1\n",
            "  Attempting uninstall: html5lib\n",
            "    Found existing installation: html5lib 1.0.1\n",
            "    Uninstalling html5lib-1.0.1:\n",
            "      Successfully uninstalled html5lib-1.0.1\n",
            "  Attempting uninstall: beautifulsoup4\n",
            "    Found existing installation: beautifulsoup4 4.6.3\n",
            "    Uninstalling beautifulsoup4-4.6.3:\n",
            "      Successfully uninstalled beautifulsoup4-4.6.3\n",
            "Successfully installed beautifulsoup4-4.11.2 cryptography-39.0.1 frozendict-2.3.4 html5lib-1.1 requests-2.28.2 soupsieve-2.3.2.post1 yfinance-0.2.10\n"
          ]
        }
      ]
    },
    {
      "cell_type": "code",
      "source": [
        "!pip install mplfinance"
      ],
      "metadata": {
        "id": "L1DcplhUXXBx",
        "outputId": "f9f3f03b-3289-44a4-958b-d0effeca2ae2",
        "colab": {
          "base_uri": "https://localhost:8080/"
        }
      },
      "execution_count": 3,
      "outputs": [
        {
          "output_type": "stream",
          "name": "stdout",
          "text": [
            "Looking in indexes: https://pypi.org/simple, https://us-python.pkg.dev/colab-wheels/public/simple/\n",
            "Collecting mplfinance\n",
            "  Downloading mplfinance-0.12.9b7-py3-none-any.whl (73 kB)\n",
            "\u001b[2K     \u001b[90m━━━━━━━━━━━━━━━━━━━━━━━━━━━━━━━━━━━━━━━━\u001b[0m \u001b[32m73.1/73.1 KB\u001b[0m \u001b[31m4.6 MB/s\u001b[0m eta \u001b[36m0:00:00\u001b[0m\n",
            "\u001b[?25hRequirement already satisfied: pandas in /usr/local/lib/python3.8/dist-packages (from mplfinance) (1.3.5)\n",
            "Requirement already satisfied: matplotlib in /usr/local/lib/python3.8/dist-packages (from mplfinance) (3.2.2)\n",
            "Requirement already satisfied: numpy>=1.11 in /usr/local/lib/python3.8/dist-packages (from matplotlib->mplfinance) (1.21.6)\n",
            "Requirement already satisfied: pyparsing!=2.0.4,!=2.1.2,!=2.1.6,>=2.0.1 in /usr/local/lib/python3.8/dist-packages (from matplotlib->mplfinance) (3.0.9)\n",
            "Requirement already satisfied: kiwisolver>=1.0.1 in /usr/local/lib/python3.8/dist-packages (from matplotlib->mplfinance) (1.4.4)\n",
            "Requirement already satisfied: python-dateutil>=2.1 in /usr/local/lib/python3.8/dist-packages (from matplotlib->mplfinance) (2.8.2)\n",
            "Requirement already satisfied: cycler>=0.10 in /usr/local/lib/python3.8/dist-packages (from matplotlib->mplfinance) (0.11.0)\n",
            "Requirement already satisfied: pytz>=2017.3 in /usr/local/lib/python3.8/dist-packages (from pandas->mplfinance) (2022.7.1)\n",
            "Requirement already satisfied: six>=1.5 in /usr/local/lib/python3.8/dist-packages (from python-dateutil>=2.1->matplotlib->mplfinance) (1.15.0)\n",
            "Installing collected packages: mplfinance\n",
            "Successfully installed mplfinance-0.12.9b7\n"
          ]
        }
      ]
    },
    {
      "cell_type": "code",
      "metadata": {
        "id": "-okj6QkT4v5e"
      },
      "source": [
        "import pandas as pd\n",
        "import numpy as np\n",
        "import yfinance as yf\n",
        "import mplfinance as mpf\n",
        "import pandas_ta as ta"
      ],
      "execution_count": 4,
      "outputs": []
    },
    {
      "cell_type": "code",
      "metadata": {
        "colab": {
          "base_uri": "https://localhost:8080/"
        },
        "id": "PSt3B7pP46Gq",
        "outputId": "340a4c7b-91b4-4fbe-c7f8-0a6c2ad730ec"
      },
      "source": [
        "data = yf.download(\"BTC-USD\", start=\"2018-01-01\", end=\"2022-03-20\")"
      ],
      "execution_count": 5,
      "outputs": [
        {
          "output_type": "stream",
          "name": "stdout",
          "text": [
            "\r[*********************100%***********************]  1 of 1 completed\n"
          ]
        }
      ]
    },
    {
      "cell_type": "code",
      "metadata": {
        "colab": {
          "base_uri": "https://localhost:8080/",
          "height": 455
        },
        "id": "3_BpVrYi5BUU",
        "outputId": "2fdea12a-d5e8-4463-f708-84c7e84740cd"
      },
      "source": [
        "data.ta.macd()"
      ],
      "execution_count": 6,
      "outputs": [
        {
          "output_type": "execute_result",
          "data": {
            "text/plain": [
              "            MACD_12_26_9  MACDh_12_26_9  MACDs_12_26_9\n",
              "Date                                                  \n",
              "2018-01-01           NaN            NaN            NaN\n",
              "2018-01-02           NaN            NaN            NaN\n",
              "2018-01-03           NaN            NaN            NaN\n",
              "2018-01-04           NaN            NaN            NaN\n",
              "2018-01-05           NaN            NaN            NaN\n",
              "...                  ...            ...            ...\n",
              "2022-03-15   -422.706120     -60.728475    -361.977645\n",
              "2022-03-16   -254.727898      85.799798    -340.527696\n",
              "2022-03-17   -135.578323     163.959499    -299.537821\n",
              "2022-03-18     27.106042     261.315091    -234.209048\n",
              "2022-03-19    185.327315     335.629091    -150.301776\n",
              "\n",
              "[1539 rows x 3 columns]"
            ],
            "text/html": [
              "\n",
              "  <div id=\"df-31ee1996-a70f-4caf-8e63-6f3d20ffb6aa\">\n",
              "    <div class=\"colab-df-container\">\n",
              "      <div>\n",
              "<style scoped>\n",
              "    .dataframe tbody tr th:only-of-type {\n",
              "        vertical-align: middle;\n",
              "    }\n",
              "\n",
              "    .dataframe tbody tr th {\n",
              "        vertical-align: top;\n",
              "    }\n",
              "\n",
              "    .dataframe thead th {\n",
              "        text-align: right;\n",
              "    }\n",
              "</style>\n",
              "<table border=\"1\" class=\"dataframe\">\n",
              "  <thead>\n",
              "    <tr style=\"text-align: right;\">\n",
              "      <th></th>\n",
              "      <th>MACD_12_26_9</th>\n",
              "      <th>MACDh_12_26_9</th>\n",
              "      <th>MACDs_12_26_9</th>\n",
              "    </tr>\n",
              "    <tr>\n",
              "      <th>Date</th>\n",
              "      <th></th>\n",
              "      <th></th>\n",
              "      <th></th>\n",
              "    </tr>\n",
              "  </thead>\n",
              "  <tbody>\n",
              "    <tr>\n",
              "      <th>2018-01-01</th>\n",
              "      <td>NaN</td>\n",
              "      <td>NaN</td>\n",
              "      <td>NaN</td>\n",
              "    </tr>\n",
              "    <tr>\n",
              "      <th>2018-01-02</th>\n",
              "      <td>NaN</td>\n",
              "      <td>NaN</td>\n",
              "      <td>NaN</td>\n",
              "    </tr>\n",
              "    <tr>\n",
              "      <th>2018-01-03</th>\n",
              "      <td>NaN</td>\n",
              "      <td>NaN</td>\n",
              "      <td>NaN</td>\n",
              "    </tr>\n",
              "    <tr>\n",
              "      <th>2018-01-04</th>\n",
              "      <td>NaN</td>\n",
              "      <td>NaN</td>\n",
              "      <td>NaN</td>\n",
              "    </tr>\n",
              "    <tr>\n",
              "      <th>2018-01-05</th>\n",
              "      <td>NaN</td>\n",
              "      <td>NaN</td>\n",
              "      <td>NaN</td>\n",
              "    </tr>\n",
              "    <tr>\n",
              "      <th>...</th>\n",
              "      <td>...</td>\n",
              "      <td>...</td>\n",
              "      <td>...</td>\n",
              "    </tr>\n",
              "    <tr>\n",
              "      <th>2022-03-15</th>\n",
              "      <td>-422.706120</td>\n",
              "      <td>-60.728475</td>\n",
              "      <td>-361.977645</td>\n",
              "    </tr>\n",
              "    <tr>\n",
              "      <th>2022-03-16</th>\n",
              "      <td>-254.727898</td>\n",
              "      <td>85.799798</td>\n",
              "      <td>-340.527696</td>\n",
              "    </tr>\n",
              "    <tr>\n",
              "      <th>2022-03-17</th>\n",
              "      <td>-135.578323</td>\n",
              "      <td>163.959499</td>\n",
              "      <td>-299.537821</td>\n",
              "    </tr>\n",
              "    <tr>\n",
              "      <th>2022-03-18</th>\n",
              "      <td>27.106042</td>\n",
              "      <td>261.315091</td>\n",
              "      <td>-234.209048</td>\n",
              "    </tr>\n",
              "    <tr>\n",
              "      <th>2022-03-19</th>\n",
              "      <td>185.327315</td>\n",
              "      <td>335.629091</td>\n",
              "      <td>-150.301776</td>\n",
              "    </tr>\n",
              "  </tbody>\n",
              "</table>\n",
              "<p>1539 rows × 3 columns</p>\n",
              "</div>\n",
              "      <button class=\"colab-df-convert\" onclick=\"convertToInteractive('df-31ee1996-a70f-4caf-8e63-6f3d20ffb6aa')\"\n",
              "              title=\"Convert this dataframe to an interactive table.\"\n",
              "              style=\"display:none;\">\n",
              "        \n",
              "  <svg xmlns=\"http://www.w3.org/2000/svg\" height=\"24px\"viewBox=\"0 0 24 24\"\n",
              "       width=\"24px\">\n",
              "    <path d=\"M0 0h24v24H0V0z\" fill=\"none\"/>\n",
              "    <path d=\"M18.56 5.44l.94 2.06.94-2.06 2.06-.94-2.06-.94-.94-2.06-.94 2.06-2.06.94zm-11 1L8.5 8.5l.94-2.06 2.06-.94-2.06-.94L8.5 2.5l-.94 2.06-2.06.94zm10 10l.94 2.06.94-2.06 2.06-.94-2.06-.94-.94-2.06-.94 2.06-2.06.94z\"/><path d=\"M17.41 7.96l-1.37-1.37c-.4-.4-.92-.59-1.43-.59-.52 0-1.04.2-1.43.59L10.3 9.45l-7.72 7.72c-.78.78-.78 2.05 0 2.83L4 21.41c.39.39.9.59 1.41.59.51 0 1.02-.2 1.41-.59l7.78-7.78 2.81-2.81c.8-.78.8-2.07 0-2.86zM5.41 20L4 18.59l7.72-7.72 1.47 1.35L5.41 20z\"/>\n",
              "  </svg>\n",
              "      </button>\n",
              "      \n",
              "  <style>\n",
              "    .colab-df-container {\n",
              "      display:flex;\n",
              "      flex-wrap:wrap;\n",
              "      gap: 12px;\n",
              "    }\n",
              "\n",
              "    .colab-df-convert {\n",
              "      background-color: #E8F0FE;\n",
              "      border: none;\n",
              "      border-radius: 50%;\n",
              "      cursor: pointer;\n",
              "      display: none;\n",
              "      fill: #1967D2;\n",
              "      height: 32px;\n",
              "      padding: 0 0 0 0;\n",
              "      width: 32px;\n",
              "    }\n",
              "\n",
              "    .colab-df-convert:hover {\n",
              "      background-color: #E2EBFA;\n",
              "      box-shadow: 0px 1px 2px rgba(60, 64, 67, 0.3), 0px 1px 3px 1px rgba(60, 64, 67, 0.15);\n",
              "      fill: #174EA6;\n",
              "    }\n",
              "\n",
              "    [theme=dark] .colab-df-convert {\n",
              "      background-color: #3B4455;\n",
              "      fill: #D2E3FC;\n",
              "    }\n",
              "\n",
              "    [theme=dark] .colab-df-convert:hover {\n",
              "      background-color: #434B5C;\n",
              "      box-shadow: 0px 1px 3px 1px rgba(0, 0, 0, 0.15);\n",
              "      filter: drop-shadow(0px 1px 2px rgba(0, 0, 0, 0.3));\n",
              "      fill: #FFFFFF;\n",
              "    }\n",
              "  </style>\n",
              "\n",
              "      <script>\n",
              "        const buttonEl =\n",
              "          document.querySelector('#df-31ee1996-a70f-4caf-8e63-6f3d20ffb6aa button.colab-df-convert');\n",
              "        buttonEl.style.display =\n",
              "          google.colab.kernel.accessAllowed ? 'block' : 'none';\n",
              "\n",
              "        async function convertToInteractive(key) {\n",
              "          const element = document.querySelector('#df-31ee1996-a70f-4caf-8e63-6f3d20ffb6aa');\n",
              "          const dataTable =\n",
              "            await google.colab.kernel.invokeFunction('convertToInteractive',\n",
              "                                                     [key], {});\n",
              "          if (!dataTable) return;\n",
              "\n",
              "          const docLinkHtml = 'Like what you see? Visit the ' +\n",
              "            '<a target=\"_blank\" href=https://colab.research.google.com/notebooks/data_table.ipynb>data table notebook</a>'\n",
              "            + ' to learn more about interactive tables.';\n",
              "          element.innerHTML = '';\n",
              "          dataTable['output_type'] = 'display_data';\n",
              "          await google.colab.output.renderOutput(dataTable, element);\n",
              "          const docLink = document.createElement('div');\n",
              "          docLink.innerHTML = docLinkHtml;\n",
              "          element.appendChild(docLink);\n",
              "        }\n",
              "      </script>\n",
              "    </div>\n",
              "  </div>\n",
              "  "
            ]
          },
          "metadata": {},
          "execution_count": 6
        }
      ]
    },
    {
      "cell_type": "code",
      "source": [
        "data.describe()"
      ],
      "metadata": {
        "colab": {
          "base_uri": "https://localhost:8080/",
          "height": 300
        },
        "id": "eEvIFZ0M5ymv",
        "outputId": "6ce7a594-9525-4e90-e586-acb603f47a73"
      },
      "execution_count": 7,
      "outputs": [
        {
          "output_type": "execute_result",
          "data": {
            "text/plain": [
              "               Open          High           Low         Close     Adj Close  \\\n",
              "count   1539.000000   1539.000000   1539.000000   1539.000000   1539.000000   \n",
              "mean   19496.448280  20005.833455  18927.204759  19511.827592  19511.827592   \n",
              "std    17997.785741  18483.901900  17436.657130  18001.250031  18001.250031   \n",
              "min     3236.274658   3275.377930   3191.303467   3236.761719   3236.761719   \n",
              "25%     7248.951904   7387.750000   7083.859375   7247.584473   7247.584473   \n",
              "50%     9691.230469   9887.610352   9501.730469   9690.142578   9690.142578   \n",
              "75%    35447.425781  36499.953125  33545.607422  35529.019531  35529.019531   \n",
              "max    67549.734375  68789.625000  66382.062500  67566.828125  67566.828125   \n",
              "\n",
              "             Volume  \n",
              "count  1.539000e+03  \n",
              "mean   2.579942e+10  \n",
              "std    2.074713e+10  \n",
              "min    2.923670e+09  \n",
              "25%    8.924694e+09  \n",
              "50%    2.255205e+10  \n",
              "75%    3.587061e+10  \n",
              "max    3.509679e+11  "
            ],
            "text/html": [
              "\n",
              "  <div id=\"df-73361a34-0b99-4167-aff1-ada6c94ef919\">\n",
              "    <div class=\"colab-df-container\">\n",
              "      <div>\n",
              "<style scoped>\n",
              "    .dataframe tbody tr th:only-of-type {\n",
              "        vertical-align: middle;\n",
              "    }\n",
              "\n",
              "    .dataframe tbody tr th {\n",
              "        vertical-align: top;\n",
              "    }\n",
              "\n",
              "    .dataframe thead th {\n",
              "        text-align: right;\n",
              "    }\n",
              "</style>\n",
              "<table border=\"1\" class=\"dataframe\">\n",
              "  <thead>\n",
              "    <tr style=\"text-align: right;\">\n",
              "      <th></th>\n",
              "      <th>Open</th>\n",
              "      <th>High</th>\n",
              "      <th>Low</th>\n",
              "      <th>Close</th>\n",
              "      <th>Adj Close</th>\n",
              "      <th>Volume</th>\n",
              "    </tr>\n",
              "  </thead>\n",
              "  <tbody>\n",
              "    <tr>\n",
              "      <th>count</th>\n",
              "      <td>1539.000000</td>\n",
              "      <td>1539.000000</td>\n",
              "      <td>1539.000000</td>\n",
              "      <td>1539.000000</td>\n",
              "      <td>1539.000000</td>\n",
              "      <td>1.539000e+03</td>\n",
              "    </tr>\n",
              "    <tr>\n",
              "      <th>mean</th>\n",
              "      <td>19496.448280</td>\n",
              "      <td>20005.833455</td>\n",
              "      <td>18927.204759</td>\n",
              "      <td>19511.827592</td>\n",
              "      <td>19511.827592</td>\n",
              "      <td>2.579942e+10</td>\n",
              "    </tr>\n",
              "    <tr>\n",
              "      <th>std</th>\n",
              "      <td>17997.785741</td>\n",
              "      <td>18483.901900</td>\n",
              "      <td>17436.657130</td>\n",
              "      <td>18001.250031</td>\n",
              "      <td>18001.250031</td>\n",
              "      <td>2.074713e+10</td>\n",
              "    </tr>\n",
              "    <tr>\n",
              "      <th>min</th>\n",
              "      <td>3236.274658</td>\n",
              "      <td>3275.377930</td>\n",
              "      <td>3191.303467</td>\n",
              "      <td>3236.761719</td>\n",
              "      <td>3236.761719</td>\n",
              "      <td>2.923670e+09</td>\n",
              "    </tr>\n",
              "    <tr>\n",
              "      <th>25%</th>\n",
              "      <td>7248.951904</td>\n",
              "      <td>7387.750000</td>\n",
              "      <td>7083.859375</td>\n",
              "      <td>7247.584473</td>\n",
              "      <td>7247.584473</td>\n",
              "      <td>8.924694e+09</td>\n",
              "    </tr>\n",
              "    <tr>\n",
              "      <th>50%</th>\n",
              "      <td>9691.230469</td>\n",
              "      <td>9887.610352</td>\n",
              "      <td>9501.730469</td>\n",
              "      <td>9690.142578</td>\n",
              "      <td>9690.142578</td>\n",
              "      <td>2.255205e+10</td>\n",
              "    </tr>\n",
              "    <tr>\n",
              "      <th>75%</th>\n",
              "      <td>35447.425781</td>\n",
              "      <td>36499.953125</td>\n",
              "      <td>33545.607422</td>\n",
              "      <td>35529.019531</td>\n",
              "      <td>35529.019531</td>\n",
              "      <td>3.587061e+10</td>\n",
              "    </tr>\n",
              "    <tr>\n",
              "      <th>max</th>\n",
              "      <td>67549.734375</td>\n",
              "      <td>68789.625000</td>\n",
              "      <td>66382.062500</td>\n",
              "      <td>67566.828125</td>\n",
              "      <td>67566.828125</td>\n",
              "      <td>3.509679e+11</td>\n",
              "    </tr>\n",
              "  </tbody>\n",
              "</table>\n",
              "</div>\n",
              "      <button class=\"colab-df-convert\" onclick=\"convertToInteractive('df-73361a34-0b99-4167-aff1-ada6c94ef919')\"\n",
              "              title=\"Convert this dataframe to an interactive table.\"\n",
              "              style=\"display:none;\">\n",
              "        \n",
              "  <svg xmlns=\"http://www.w3.org/2000/svg\" height=\"24px\"viewBox=\"0 0 24 24\"\n",
              "       width=\"24px\">\n",
              "    <path d=\"M0 0h24v24H0V0z\" fill=\"none\"/>\n",
              "    <path d=\"M18.56 5.44l.94 2.06.94-2.06 2.06-.94-2.06-.94-.94-2.06-.94 2.06-2.06.94zm-11 1L8.5 8.5l.94-2.06 2.06-.94-2.06-.94L8.5 2.5l-.94 2.06-2.06.94zm10 10l.94 2.06.94-2.06 2.06-.94-2.06-.94-.94-2.06-.94 2.06-2.06.94z\"/><path d=\"M17.41 7.96l-1.37-1.37c-.4-.4-.92-.59-1.43-.59-.52 0-1.04.2-1.43.59L10.3 9.45l-7.72 7.72c-.78.78-.78 2.05 0 2.83L4 21.41c.39.39.9.59 1.41.59.51 0 1.02-.2 1.41-.59l7.78-7.78 2.81-2.81c.8-.78.8-2.07 0-2.86zM5.41 20L4 18.59l7.72-7.72 1.47 1.35L5.41 20z\"/>\n",
              "  </svg>\n",
              "      </button>\n",
              "      \n",
              "  <style>\n",
              "    .colab-df-container {\n",
              "      display:flex;\n",
              "      flex-wrap:wrap;\n",
              "      gap: 12px;\n",
              "    }\n",
              "\n",
              "    .colab-df-convert {\n",
              "      background-color: #E8F0FE;\n",
              "      border: none;\n",
              "      border-radius: 50%;\n",
              "      cursor: pointer;\n",
              "      display: none;\n",
              "      fill: #1967D2;\n",
              "      height: 32px;\n",
              "      padding: 0 0 0 0;\n",
              "      width: 32px;\n",
              "    }\n",
              "\n",
              "    .colab-df-convert:hover {\n",
              "      background-color: #E2EBFA;\n",
              "      box-shadow: 0px 1px 2px rgba(60, 64, 67, 0.3), 0px 1px 3px 1px rgba(60, 64, 67, 0.15);\n",
              "      fill: #174EA6;\n",
              "    }\n",
              "\n",
              "    [theme=dark] .colab-df-convert {\n",
              "      background-color: #3B4455;\n",
              "      fill: #D2E3FC;\n",
              "    }\n",
              "\n",
              "    [theme=dark] .colab-df-convert:hover {\n",
              "      background-color: #434B5C;\n",
              "      box-shadow: 0px 1px 3px 1px rgba(0, 0, 0, 0.15);\n",
              "      filter: drop-shadow(0px 1px 2px rgba(0, 0, 0, 0.3));\n",
              "      fill: #FFFFFF;\n",
              "    }\n",
              "  </style>\n",
              "\n",
              "      <script>\n",
              "        const buttonEl =\n",
              "          document.querySelector('#df-73361a34-0b99-4167-aff1-ada6c94ef919 button.colab-df-convert');\n",
              "        buttonEl.style.display =\n",
              "          google.colab.kernel.accessAllowed ? 'block' : 'none';\n",
              "\n",
              "        async function convertToInteractive(key) {\n",
              "          const element = document.querySelector('#df-73361a34-0b99-4167-aff1-ada6c94ef919');\n",
              "          const dataTable =\n",
              "            await google.colab.kernel.invokeFunction('convertToInteractive',\n",
              "                                                     [key], {});\n",
              "          if (!dataTable) return;\n",
              "\n",
              "          const docLinkHtml = 'Like what you see? Visit the ' +\n",
              "            '<a target=\"_blank\" href=https://colab.research.google.com/notebooks/data_table.ipynb>data table notebook</a>'\n",
              "            + ' to learn more about interactive tables.';\n",
              "          element.innerHTML = '';\n",
              "          dataTable['output_type'] = 'display_data';\n",
              "          await google.colab.output.renderOutput(dataTable, element);\n",
              "          const docLink = document.createElement('div');\n",
              "          docLink.innerHTML = docLinkHtml;\n",
              "          element.appendChild(docLink);\n",
              "        }\n",
              "      </script>\n",
              "    </div>\n",
              "  </div>\n",
              "  "
            ]
          },
          "metadata": {},
          "execution_count": 7
        }
      ]
    },
    {
      "cell_type": "code",
      "metadata": {
        "colab": {
          "base_uri": "https://localhost:8080/"
        },
        "id": "d3GZvxZ95Fe5",
        "outputId": "85d3924c-8961-41bb-850d-c9dbd0d785f1"
      },
      "source": [
        "df = data['Close'].copy()\n",
        "df"
      ],
      "execution_count": 8,
      "outputs": [
        {
          "output_type": "execute_result",
          "data": {
            "text/plain": [
              "Date\n",
              "2018-01-01    13657.200195\n",
              "2018-01-02    14982.099609\n",
              "2018-01-03    15201.000000\n",
              "2018-01-04    15599.200195\n",
              "2018-01-05    17429.500000\n",
              "                  ...     \n",
              "2022-03-15    39338.785156\n",
              "2022-03-16    41143.929688\n",
              "2022-03-17    40951.378906\n",
              "2022-03-18    41801.156250\n",
              "2022-03-19    42190.652344\n",
              "Name: Close, Length: 1539, dtype: float64"
            ]
          },
          "metadata": {},
          "execution_count": 8
        }
      ]
    },
    {
      "cell_type": "code",
      "source": [
        "data['Close'].mean()"
      ],
      "metadata": {
        "colab": {
          "base_uri": "https://localhost:8080/"
        },
        "id": "qzsV4whg5nck",
        "outputId": "fd1330eb-023c-473d-d22c-09298f7004e5"
      },
      "execution_count": 9,
      "outputs": [
        {
          "output_type": "execute_result",
          "data": {
            "text/plain": [
              "19511.82759166616"
            ]
          },
          "metadata": {},
          "execution_count": 9
        }
      ]
    },
    {
      "cell_type": "markdown",
      "source": [],
      "metadata": {
        "id": "rb_C4Ty1ocQg"
      }
    },
    {
      "cell_type": "code",
      "source": [
        "df.mean()"
      ],
      "metadata": {
        "colab": {
          "base_uri": "https://localhost:8080/"
        },
        "id": "AUn45gYA57m4",
        "outputId": "ddf300ba-e9e0-4e44-d8a0-ff6cc1836793"
      },
      "execution_count": 10,
      "outputs": [
        {
          "output_type": "execute_result",
          "data": {
            "text/plain": [
              "19511.82759166616"
            ]
          },
          "metadata": {},
          "execution_count": 10
        }
      ]
    },
    {
      "cell_type": "code",
      "source": [
        "data['Close'].describe()"
      ],
      "metadata": {
        "colab": {
          "base_uri": "https://localhost:8080/"
        },
        "id": "bRtcPOy-5tEk",
        "outputId": "1ad35cf3-e925-4888-ef7e-13ab08fd6996"
      },
      "execution_count": 11,
      "outputs": [
        {
          "output_type": "execute_result",
          "data": {
            "text/plain": [
              "count     1539.000000\n",
              "mean     19511.827592\n",
              "std      18001.250031\n",
              "min       3236.761719\n",
              "25%       7247.584473\n",
              "50%       9690.142578\n",
              "75%      35529.019531\n",
              "max      67566.828125\n",
              "Name: Close, dtype: float64"
            ]
          },
          "metadata": {},
          "execution_count": 11
        }
      ]
    },
    {
      "cell_type": "code",
      "source": [
        "df"
      ],
      "metadata": {
        "colab": {
          "base_uri": "https://localhost:8080/"
        },
        "id": "R4HUJIFU6WJm",
        "outputId": "44447e39-265c-4df2-b0df-9eba5d930329"
      },
      "execution_count": 12,
      "outputs": [
        {
          "output_type": "execute_result",
          "data": {
            "text/plain": [
              "Date\n",
              "2018-01-01    13657.200195\n",
              "2018-01-02    14982.099609\n",
              "2018-01-03    15201.000000\n",
              "2018-01-04    15599.200195\n",
              "2018-01-05    17429.500000\n",
              "                  ...     \n",
              "2022-03-15    39338.785156\n",
              "2022-03-16    41143.929688\n",
              "2022-03-17    40951.378906\n",
              "2022-03-18    41801.156250\n",
              "2022-03-19    42190.652344\n",
              "Name: Close, Length: 1539, dtype: float64"
            ]
          },
          "metadata": {},
          "execution_count": 12
        }
      ]
    },
    {
      "cell_type": "code",
      "source": [
        "  df.rolling(5).mean()"
      ],
      "metadata": {
        "colab": {
          "base_uri": "https://localhost:8080/"
        },
        "id": "aFO_fD6a55sL",
        "outputId": "2fb96add-6a9c-4c4f-c69a-e9cbd825b4be"
      },
      "execution_count": 13,
      "outputs": [
        {
          "output_type": "execute_result",
          "data": {
            "text/plain": [
              "Date\n",
              "2018-01-01             NaN\n",
              "2018-01-02             NaN\n",
              "2018-01-03             NaN\n",
              "2018-01-04             NaN\n",
              "2018-01-05    15373.800000\n",
              "                  ...     \n",
              "2022-03-15    38910.837500\n",
              "2022-03-16    39380.628906\n",
              "2022-03-17    39790.102344\n",
              "2022-03-18    40580.400781\n",
              "2022-03-19    41085.180469\n",
              "Name: Close, Length: 1539, dtype: float64"
            ]
          },
          "metadata": {},
          "execution_count": 13
        }
      ]
    },
    {
      "cell_type": "code",
      "metadata": {
        "id": "5g1ou_9U5Q4p"
      },
      "source": [
        "sma_50 = df.rolling(50).mean()\n",
        "sma_100 = df.rolling(100).mean()\n",
        "sma_200 = df.rolling(200).mean()"
      ],
      "execution_count": 14,
      "outputs": []
    },
    {
      "cell_type": "code",
      "metadata": {
        "colab": {
          "base_uri": "https://localhost:8080/",
          "height": 296
        },
        "id": "w5IkbKOzElQ8",
        "outputId": "9936ad58-a97e-48d7-fb7f-26c80ecaa85b"
      },
      "source": [
        "sma_200.plot()"
      ],
      "execution_count": 15,
      "outputs": [
        {
          "output_type": "execute_result",
          "data": {
            "text/plain": [
              "<matplotlib.axes._subplots.AxesSubplot at 0x7f61e4130e20>"
            ]
          },
          "metadata": {},
          "execution_count": 15
        },
        {
          "output_type": "display_data",
          "data": {
            "text/plain": [
              "<Figure size 432x288 with 1 Axes>"
            ],
            "image/png": "[encoded data removed]"
          },
          "metadata": {
            "needs_background": "light"
          }
        }
      ]
    },
    {
      "cell_type": "markdown",
      "metadata": {
        "id": "5gIZDuK4C0-2"
      },
      "source": [
        "# EMA investopedia"
      ]
    },
    {
      "cell_type": "code",
      "source": [],
      "metadata": {
        "id": "CURJZcFasqfX"
      },
      "execution_count": 15,
      "outputs": []
    },
    {
      "cell_type": "markdown",
      "metadata": {
        "id": "woA7z-cqCMNy"
      },
      "source": [
        "![image.png](data:image/png;base64,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)"
      ]
    },
    {
      "cell_type": "markdown",
      "metadata": {
        "id": "kR9891XJC36s"
      },
      "source": [
        "# ewm in pandas"
      ]
    },
    {
      "cell_type": "markdown",
      "metadata": {
        "id": "5mk3rnEpCyjT"
      },
      "source": [
        "![image.png](data:image/png;base64,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)"
      ]
    },
    {
      "cell_type": "markdown",
      "metadata": {
        "id": "2ruhrdliBfwr"
      },
      "source": [
        "Calculation:\n",
        "\n",
        "```\n",
        "#   Default Inputs:\n",
        "        length=10, adjust=False, sma=True\n",
        "    if sma:\n",
        "        sma_nth = close[0:length].sum() / length\n",
        "        close[:length - 1] = np.NaN\n",
        "        close.iloc[length - 1] = sma_nth\n",
        "    EMA = close.ewm(span=length, adjust=adjust).mean()\n",
        "```\n",
        "\n",
        "\n",
        "  "
      ]
    },
    {
      "cell_type": "markdown",
      "source": [
        "Date\n",
        "### 2018-01-01    13657.200195\n",
        "### 2018-01-02    14540.466471\n",
        "### 2018-01-03    14917.914202\n",
        "### 2018-01-04    15281.266732\n",
        "### 2018-01-05    16390.032290\n"
      ],
      "metadata": {
        "id": "CqUTp8ZI72XF"
      }
    },
    {
      "cell_type": "code",
      "metadata": {
        "colab": {
          "base_uri": "https://localhost:8080/"
        },
        "id": "6y61ZWfb6bhT",
        "outputId": "a02a74e5-49e6-4480-f2ae-2afe73902950"
      },
      "source": [
        "ema_3 = df.ewm(span=3, adjust=False,min_periods=3).mean()\n",
        "ema_3"
      ],
      "execution_count": 16,
      "outputs": [
        {
          "output_type": "execute_result",
          "data": {
            "text/plain": [
              "Date\n",
              "2018-01-01             NaN\n",
              "2018-01-02             NaN\n",
              "2018-01-03    14760.324951\n",
              "2018-01-04    15179.762573\n",
              "2018-01-05    16304.631287\n",
              "                  ...     \n",
              "2022-03-15    39207.765131\n",
              "2022-03-16    40175.847409\n",
              "2022-03-17    40563.613158\n",
              "2022-03-18    41182.384704\n",
              "2022-03-19    41686.518524\n",
              "Name: Close, Length: 1539, dtype: float64"
            ]
          },
          "metadata": {},
          "execution_count": 16
        }
      ]
    },
    {
      "cell_type": "code",
      "source": [
        "ema_20 = df.ewm(span=20, adjust=False,min_periods=20).mean()\n",
        "sma_20 = df.rolling(20).mean()"
      ],
      "metadata": {
        "id": "NGMFA3T47vcF"
      },
      "execution_count": 17,
      "outputs": []
    },
    {
      "cell_type": "code",
      "metadata": {
        "colab": {
          "base_uri": "https://localhost:8080/",
          "height": 296
        },
        "id": "vaBt1qZB__7y",
        "outputId": "5926e829-fe9a-4514-809a-046f531aa60d"
      },
      "source": [
        "ema_20.plot()"
      ],
      "execution_count": 18,
      "outputs": [
        {
          "output_type": "execute_result",
          "data": {
            "text/plain": [
              "<matplotlib.axes._subplots.AxesSubplot at 0x7f61e4011250>"
            ]
          },
          "metadata": {},
          "execution_count": 18
        },
        {
          "output_type": "display_data",
          "data": {
            "text/plain": [
              "<Figure size 432x288 with 1 Axes>"
            ],
            "image/png": "[encoded data removed]"
          },
          "metadata": {
            "needs_background": "light"
          }
        }
      ]
    },
    {
      "cell_type": "code",
      "source": [
        "sma_20.plot()"
      ],
      "metadata": {
        "colab": {
          "base_uri": "https://localhost:8080/",
          "height": 296
        },
        "id": "m4SKkp8a8jZb",
        "outputId": "aa1a2486-907c-4568-ab19-458d568175cd"
      },
      "execution_count": 19,
      "outputs": [
        {
          "output_type": "execute_result",
          "data": {
            "text/plain": [
              "<matplotlib.axes._subplots.AxesSubplot at 0x7f61dfb36d60>"
            ]
          },
          "metadata": {},
          "execution_count": 19
        },
        {
          "output_type": "display_data",
          "data": {
            "text/plain": [
              "<Figure size 432x288 with 1 Axes>"
            ],
            "image/png": "[encoded data removed]"
          },
          "metadata": {
            "needs_background": "light"
          }
        }
      ]
    },
    {
      "cell_type": "code",
      "source": [
        "data['sma_20'] = sma_20\n",
        "data['ema_20'] = ema_20\n",
        "data"
      ],
      "metadata": {
        "colab": {
          "base_uri": "https://localhost:8080/",
          "height": 455
        },
        "id": "plPqQtaX8rXn",
        "outputId": "6f4d20ba-b422-490f-bea4-4347ab701a34"
      },
      "execution_count": 20,
      "outputs": [
        {
          "output_type": "execute_result",
          "data": {
            "text/plain": [
              "                    Open          High           Low         Close  \\\n",
              "Date                                                                 \n",
              "2018-01-01  14112.200195  14112.200195  13154.700195  13657.200195   \n",
              "2018-01-02  13625.000000  15444.599609  13163.599609  14982.099609   \n",
              "2018-01-03  14978.200195  15572.799805  14844.500000  15201.000000   \n",
              "2018-01-04  15270.700195  15739.700195  14522.200195  15599.200195   \n",
              "2018-01-05  15477.200195  17705.199219  15202.799805  17429.500000   \n",
              "...                  ...           ...           ...           ...   \n",
              "2022-03-15  39664.250000  39794.628906  38310.210938  39338.785156   \n",
              "2022-03-16  39335.570312  41465.453125  39022.347656  41143.929688   \n",
              "2022-03-17  41140.843750  41287.535156  40662.871094  40951.378906   \n",
              "2022-03-18  40944.839844  42195.746094  40302.398438  41801.156250   \n",
              "2022-03-19  41794.648438  42316.554688  41602.667969  42190.652344   \n",
              "\n",
              "               Adj Close       Volume        sma_20        ema_20  \n",
              "Date                                                               \n",
              "2018-01-01  13657.200195  10291200000           NaN           NaN  \n",
              "2018-01-02  14982.099609  16846600192           NaN           NaN  \n",
              "2018-01-03  15201.000000  16871900160           NaN           NaN  \n",
              "2018-01-04  15599.200195  21783199744           NaN           NaN  \n",
              "2018-01-05  17429.500000  23840899072           NaN           NaN  \n",
              "...                  ...          ...           ...           ...  \n",
              "2022-03-15  39338.785156  23934000868  39900.879883  39690.904441  \n",
              "2022-03-16  41143.929688  39616916192  40041.445898  39829.287798  \n",
              "2022-03-17  40951.378906  22009601093  40128.303906  39936.153618  \n",
              "2022-03-18  41801.156250  34421564942  40263.104297  40113.772916  \n",
              "2022-03-19  42190.652344  19664853187  40487.147656  40311.570957  \n",
              "\n",
              "[1539 rows x 8 columns]"
            ],
            "text/html": [
              "\n",
              "  <div id=\"df-1b50ac1f-8759-4f7a-bf93-5a560b91e410\">\n",
              "    <div class=\"colab-df-container\">\n",
              "      <div>\n",
              "<style scoped>\n",
              "    .dataframe tbody tr th:only-of-type {\n",
              "        vertical-align: middle;\n",
              "    }\n",
              "\n",
              "    .dataframe tbody tr th {\n",
              "        vertical-align: top;\n",
              "    }\n",
              "\n",
              "    .dataframe thead th {\n",
              "        text-align: right;\n",
              "    }\n",
              "</style>\n",
              "<table border=\"1\" class=\"dataframe\">\n",
              "  <thead>\n",
              "    <tr style=\"text-align: right;\">\n",
              "      <th></th>\n",
              "      <th>Open</th>\n",
              "      <th>High</th>\n",
              "      <th>Low</th>\n",
              "      <th>Close</th>\n",
              "      <th>Adj Close</th>\n",
              "      <th>Volume</th>\n",
              "      <th>sma_20</th>\n",
              "      <th>ema_20</th>\n",
              "    </tr>\n",
              "    <tr>\n",
              "      <th>Date</th>\n",
              "      <th></th>\n",
              "      <th></th>\n",
              "      <th></th>\n",
              "      <th></th>\n",
              "      <th></th>\n",
              "      <th></th>\n",
              "      <th></th>\n",
              "      <th></th>\n",
              "    </tr>\n",
              "  </thead>\n",
              "  <tbody>\n",
              "    <tr>\n",
              "      <th>2018-01-01</th>\n",
              "      <td>14112.200195</td>\n",
              "      <td>14112.200195</td>\n",
              "      <td>13154.700195</td>\n",
              "      <td>13657.200195</td>\n",
              "      <td>13657.200195</td>\n",
              "      <td>10291200000</td>\n",
              "      <td>NaN</td>\n",
              "      <td>NaN</td>\n",
              "    </tr>\n",
              "    <tr>\n",
              "      <th>2018-01-02</th>\n",
              "      <td>13625.000000</td>\n",
              "      <td>15444.599609</td>\n",
              "      <td>13163.599609</td>\n",
              "      <td>14982.099609</td>\n",
              "      <td>14982.099609</td>\n",
              "      <td>16846600192</td>\n",
              "      <td>NaN</td>\n",
              "      <td>NaN</td>\n",
              "    </tr>\n",
              "    <tr>\n",
              "      <th>2018-01-03</th>\n",
              "      <td>14978.200195</td>\n",
              "      <td>15572.799805</td>\n",
              "      <td>14844.500000</td>\n",
              "      <td>15201.000000</td>\n",
              "      <td>15201.000000</td>\n",
              "      <td>16871900160</td>\n",
              "      <td>NaN</td>\n",
              "      <td>NaN</td>\n",
              "    </tr>\n",
              "    <tr>\n",
              "      <th>2018-01-04</th>\n",
              "      <td>15270.700195</td>\n",
              "      <td>15739.700195</td>\n",
              "      <td>14522.200195</td>\n",
              "      <td>15599.200195</td>\n",
              "      <td>15599.200195</td>\n",
              "      <td>21783199744</td>\n",
              "      <td>NaN</td>\n",
              "      <td>NaN</td>\n",
              "    </tr>\n",
              "    <tr>\n",
              "      <th>2018-01-05</th>\n",
              "      <td>15477.200195</td>\n",
              "      <td>17705.199219</td>\n",
              "      <td>15202.799805</td>\n",
              "      <td>17429.500000</td>\n",
              "      <td>17429.500000</td>\n",
              "      <td>23840899072</td>\n",
              "      <td>NaN</td>\n",
              "      <td>NaN</td>\n",
              "    </tr>\n",
              "    <tr>\n",
              "      <th>...</th>\n",
              "      <td>...</td>\n",
              "      <td>...</td>\n",
              "      <td>...</td>\n",
              "      <td>...</td>\n",
              "      <td>...</td>\n",
              "      <td>...</td>\n",
              "      <td>...</td>\n",
              "      <td>...</td>\n",
              "    </tr>\n",
              "    <tr>\n",
              "      <th>2022-03-15</th>\n",
              "      <td>39664.250000</td>\n",
              "      <td>39794.628906</td>\n",
              "      <td>38310.210938</td>\n",
              "      <td>39338.785156</td>\n",
              "      <td>39338.785156</td>\n",
              "      <td>23934000868</td>\n",
              "      <td>39900.879883</td>\n",
              "      <td>39690.904441</td>\n",
              "    </tr>\n",
              "    <tr>\n",
              "      <th>2022-03-16</th>\n",
              "      <td>39335.570312</td>\n",
              "      <td>41465.453125</td>\n",
              "      <td>39022.347656</td>\n",
              "      <td>41143.929688</td>\n",
              "      <td>41143.929688</td>\n",
              "      <td>39616916192</td>\n",
              "      <td>40041.445898</td>\n",
              "      <td>39829.287798</td>\n",
              "    </tr>\n",
              "    <tr>\n",
              "      <th>2022-03-17</th>\n",
              "      <td>41140.843750</td>\n",
              "      <td>41287.535156</td>\n",
              "      <td>40662.871094</td>\n",
              "      <td>40951.378906</td>\n",
              "      <td>40951.378906</td>\n",
              "      <td>22009601093</td>\n",
              "      <td>40128.303906</td>\n",
              "      <td>39936.153618</td>\n",
              "    </tr>\n",
              "    <tr>\n",
              "      <th>2022-03-18</th>\n",
              "      <td>40944.839844</td>\n",
              "      <td>42195.746094</td>\n",
              "      <td>40302.398438</td>\n",
              "      <td>41801.156250</td>\n",
              "      <td>41801.156250</td>\n",
              "      <td>34421564942</td>\n",
              "      <td>40263.104297</td>\n",
              "      <td>40113.772916</td>\n",
              "    </tr>\n",
              "    <tr>\n",
              "      <th>2022-03-19</th>\n",
              "      <td>41794.648438</td>\n",
              "      <td>42316.554688</td>\n",
              "      <td>41602.667969</td>\n",
              "      <td>42190.652344</td>\n",
              "      <td>42190.652344</td>\n",
              "      <td>19664853187</td>\n",
              "      <td>40487.147656</td>\n",
              "      <td>40311.570957</td>\n",
              "    </tr>\n",
              "  </tbody>\n",
              "</table>\n",
              "<p>1539 rows × 8 columns</p>\n",
              "</div>\n",
              "      <button class=\"colab-df-convert\" onclick=\"convertToInteractive('df-1b50ac1f-8759-4f7a-bf93-5a560b91e410')\"\n",
              "              title=\"Convert this dataframe to an interactive table.\"\n",
              "              style=\"display:none;\">\n",
              "        \n",
              "  <svg xmlns=\"http://www.w3.org/2000/svg\" height=\"24px\"viewBox=\"0 0 24 24\"\n",
              "       width=\"24px\">\n",
              "    <path d=\"M0 0h24v24H0V0z\" fill=\"none\"/>\n",
              "    <path d=\"M18.56 5.44l.94 2.06.94-2.06 2.06-.94-2.06-.94-.94-2.06-.94 2.06-2.06.94zm-11 1L8.5 8.5l.94-2.06 2.06-.94-2.06-.94L8.5 2.5l-.94 2.06-2.06.94zm10 10l.94 2.06.94-2.06 2.06-.94-2.06-.94-.94-2.06-.94 2.06-2.06.94z\"/><path d=\"M17.41 7.96l-1.37-1.37c-.4-.4-.92-.59-1.43-.59-.52 0-1.04.2-1.43.59L10.3 9.45l-7.72 7.72c-.78.78-.78 2.05 0 2.83L4 21.41c.39.39.9.59 1.41.59.51 0 1.02-.2 1.41-.59l7.78-7.78 2.81-2.81c.8-.78.8-2.07 0-2.86zM5.41 20L4 18.59l7.72-7.72 1.47 1.35L5.41 20z\"/>\n",
              "  </svg>\n",
              "      </button>\n",
              "      \n",
              "  <style>\n",
              "    .colab-df-container {\n",
              "      display:flex;\n",
              "      flex-wrap:wrap;\n",
              "      gap: 12px;\n",
              "    }\n",
              "\n",
              "    .colab-df-convert {\n",
              "      background-color: #E8F0FE;\n",
              "      border: none;\n",
              "      border-radius: 50%;\n",
              "      cursor: pointer;\n",
              "      display: none;\n",
              "      fill: #1967D2;\n",
              "      height: 32px;\n",
              "      padding: 0 0 0 0;\n",
              "      width: 32px;\n",
              "    }\n",
              "\n",
              "    .colab-df-convert:hover {\n",
              "      background-color: #E2EBFA;\n",
              "      box-shadow: 0px 1px 2px rgba(60, 64, 67, 0.3), 0px 1px 3px 1px rgba(60, 64, 67, 0.15);\n",
              "      fill: #174EA6;\n",
              "    }\n",
              "\n",
              "    [theme=dark] .colab-df-convert {\n",
              "      background-color: #3B4455;\n",
              "      fill: #D2E3FC;\n",
              "    }\n",
              "\n",
              "    [theme=dark] .colab-df-convert:hover {\n",
              "      background-color: #434B5C;\n",
              "      box-shadow: 0px 1px 3px 1px rgba(0, 0, 0, 0.15);\n",
              "      filter: drop-shadow(0px 1px 2px rgba(0, 0, 0, 0.3));\n",
              "      fill: #FFFFFF;\n",
              "    }\n",
              "  </style>\n",
              "\n",
              "      <script>\n",
              "        const buttonEl =\n",
              "          document.querySelector('#df-1b50ac1f-8759-4f7a-bf93-5a560b91e410 button.colab-df-convert');\n",
              "        buttonEl.style.display =\n",
              "          google.colab.kernel.accessAllowed ? 'block' : 'none';\n",
              "\n",
              "        async function convertToInteractive(key) {\n",
              "          const element = document.querySelector('#df-1b50ac1f-8759-4f7a-bf93-5a560b91e410');\n",
              "          const dataTable =\n",
              "            await google.colab.kernel.invokeFunction('convertToInteractive',\n",
              "                                                     [key], {});\n",
              "          if (!dataTable) return;\n",
              "\n",
              "          const docLinkHtml = 'Like what you see? Visit the ' +\n",
              "            '<a target=\"_blank\" href=https://colab.research.google.com/notebooks/data_table.ipynb>data table notebook</a>'\n",
              "            + ' to learn more about interactive tables.';\n",
              "          element.innerHTML = '';\n",
              "          dataTable['output_type'] = 'display_data';\n",
              "          await google.colab.output.renderOutput(dataTable, element);\n",
              "          const docLink = document.createElement('div');\n",
              "          docLink.innerHTML = docLinkHtml;\n",
              "          element.appendChild(docLink);\n",
              "        }\n",
              "      </script>\n",
              "    </div>\n",
              "  </div>\n",
              "  "
            ]
          },
          "metadata": {},
          "execution_count": 20
        }
      ]
    },
    {
      "cell_type": "code",
      "source": [
        "data.plot(y=['Close','sma_20','ema_20'],figsize=(20,10))"
      ],
      "metadata": {
        "colab": {
          "base_uri": "https://localhost:8080/",
          "height": 623
        },
        "id": "1BxzPiag9Ty_",
        "outputId": "783a56fe-c291-4be3-d77e-572121cd5608"
      },
      "execution_count": 21,
      "outputs": [
        {
          "output_type": "execute_result",
          "data": {
            "text/plain": [
              "<matplotlib.axes._subplots.AxesSubplot at 0x7f61e4191970>"
            ]
          },
          "metadata": {},
          "execution_count": 21
        },
        {
          "output_type": "display_data",
          "data": {
            "text/plain": [
              "<Figure size 1440x720 with 1 Axes>"
            ],
            "image/png": "[encoded data removed]"
          },
          "metadata": {
            "needs_background": "light"
          }
        }
      ]
    },
    {
      "cell_type": "code",
      "source": [],
      "metadata": {
        "id": "IBmn-JZig9QU"
      },
      "execution_count": null,
      "outputs": []
    }
  ]
}